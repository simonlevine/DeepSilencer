{
 "metadata": {
  "language_info": {
   "codemirror_mode": {
    "name": "ipython",
    "version": 3
   },
   "file_extension": ".py",
   "mimetype": "text/x-python",
   "name": "python",
   "nbconvert_exporter": "python",
   "pygments_lexer": "ipython3",
   "version": "3.8.8"
  },
  "orig_nbformat": 4,
  "kernelspec": {
   "name": "python3",
   "display_name": "Python 3.8.8 64-bit ('base': conda)"
  },
  "interpreter": {
   "hash": "dca0ade3e726a953b501b15e8e990130d2b7799f14cfd9f4271676035ebe5511"
  }
 },
 "nbformat": 4,
 "nbformat_minor": 2,
 "cells": [
  {
   "cell_type": "code",
   "execution_count": 36,
   "metadata": {},
   "outputs": [
    {
     "output_type": "stream",
     "name": "stderr",
     "text": [
      "/opt/anaconda3/lib/python3.8/site-packages/hickle/hickle.py:556: UserWarning: Input argument 'file_obj' appears to be a file made with hickle v3. Using legacy load...\n  warnings.warn(\"Input argument 'file_obj' appears to be a file made\"\n"
     ]
    }
   ],
   "source": [
    "import hickle as hkl\n",
    "import numpy as np\n",
    "\n",
    "array_hkl = hkl.load('data/train_mat.hkl')"
   ]
  },
  {
   "cell_type": "code",
   "execution_count": 37,
   "metadata": {},
   "outputs": [
    {
     "output_type": "execute_result",
     "data": {
      "text/plain": [
       "array([[False, False, False, ..., False, False, False],\n",
       "       [False, False,  True, ..., False, False, False],\n",
       "       [False, False, False, ...,  True, False, False],\n",
       "       ...,\n",
       "       [False, False, False, ...,  True,  True, False],\n",
       "       [False,  True,  True, ...,  True, False, False],\n",
       "       [False,  True, False, ..., False, False, False]])"
      ]
     },
     "metadata": {},
     "execution_count": 37
    }
   ],
   "source": [
    "array_hkl\n"
   ]
  },
  {
   "cell_type": "code",
   "execution_count": 38,
   "metadata": {},
   "outputs": [
    {
     "output_type": "execute_result",
     "data": {
      "text/plain": [
       "(3200, 800)"
      ]
     },
     "metadata": {},
     "execution_count": 38
    }
   ],
   "source": [
    "array_hkl.shape"
   ]
  },
  {
   "cell_type": "code",
   "execution_count": 4,
   "metadata": {},
   "outputs": [
    {
     "output_type": "execute_result",
     "data": {
      "text/plain": [
       "      Unnamed: 0    chr      start        end    log2FC  \\\n",
       "0            921  chr10   32837196   32837396  2.057311   \n",
       "1           7124   chr8  101981456  101981656  1.900275   \n",
       "2           3151  chr18   48755796   48755996  1.532728   \n",
       "3            249   chr1   57998096   57998296  1.525627   \n",
       "4           1201  chr11   13913576   13913776  1.510588   \n",
       "...          ...    ...        ...        ...       ...   \n",
       "1887        1201  chr11   13913576   13913776  1.510588   \n",
       "1888         249   chr1   57998096   57998296  1.525627   \n",
       "1889        3151  chr18   48755796   48755996  1.532728   \n",
       "1890        7124   chr8  101981456  101981656  1.900275   \n",
       "1891         921  chr10   32837196   32837396  2.057311   \n",
       "\n",
       "                                                    seq  \n",
       "0     gctattttaaagagagcaggagtatgaactggaggggcagagtcag...  \n",
       "1     taaagtctgtgatctttctgataagtgcatagaagaaaacgctgac...  \n",
       "2     attccacttccatttgatgatgaaatactgctgtgtaggcccaact...  \n",
       "3     ctggcatttttcacactatactctaatttggtttatctttcccatt...  \n",
       "4     taaggtctataagagagagcacctgcctagttttgcaaagtcacac...  \n",
       "...                                                 ...  \n",
       "1887  taaggtctataagagagagcacctgcctagttttgcaaagtcacac...  \n",
       "1888  ctggcatttttcacactatactctaatttggtttatctttcccatt...  \n",
       "1889  attccacttccatttgatgatgaaatactgctgtgtaggcccaact...  \n",
       "1890  taaagtctgtgatctttctgataagtgcatagaagaaaacgctgac...  \n",
       "1891  gctattttaaagagagcaggagtatgaactggaggggcagagtcag...  \n",
       "\n",
       "[1892 rows x 6 columns]"
      ],
      "text/html": "<div>\n<style scoped>\n    .dataframe tbody tr th:only-of-type {\n        vertical-align: middle;\n    }\n\n    .dataframe tbody tr th {\n        vertical-align: top;\n    }\n\n    .dataframe thead th {\n        text-align: right;\n    }\n</style>\n<table border=\"1\" class=\"dataframe\">\n  <thead>\n    <tr style=\"text-align: right;\">\n      <th></th>\n      <th>Unnamed: 0</th>\n      <th>chr</th>\n      <th>start</th>\n      <th>end</th>\n      <th>log2FC</th>\n      <th>seq</th>\n    </tr>\n  </thead>\n  <tbody>\n    <tr>\n      <th>0</th>\n      <td>921</td>\n      <td>chr10</td>\n      <td>32837196</td>\n      <td>32837396</td>\n      <td>2.057311</td>\n      <td>gctattttaaagagagcaggagtatgaactggaggggcagagtcag...</td>\n    </tr>\n    <tr>\n      <th>1</th>\n      <td>7124</td>\n      <td>chr8</td>\n      <td>101981456</td>\n      <td>101981656</td>\n      <td>1.900275</td>\n      <td>taaagtctgtgatctttctgataagtgcatagaagaaaacgctgac...</td>\n    </tr>\n    <tr>\n      <th>2</th>\n      <td>3151</td>\n      <td>chr18</td>\n      <td>48755796</td>\n      <td>48755996</td>\n      <td>1.532728</td>\n      <td>attccacttccatttgatgatgaaatactgctgtgtaggcccaact...</td>\n    </tr>\n    <tr>\n      <th>3</th>\n      <td>249</td>\n      <td>chr1</td>\n      <td>57998096</td>\n      <td>57998296</td>\n      <td>1.525627</td>\n      <td>ctggcatttttcacactatactctaatttggtttatctttcccatt...</td>\n    </tr>\n    <tr>\n      <th>4</th>\n      <td>1201</td>\n      <td>chr11</td>\n      <td>13913576</td>\n      <td>13913776</td>\n      <td>1.510588</td>\n      <td>taaggtctataagagagagcacctgcctagttttgcaaagtcacac...</td>\n    </tr>\n    <tr>\n      <th>...</th>\n      <td>...</td>\n      <td>...</td>\n      <td>...</td>\n      <td>...</td>\n      <td>...</td>\n      <td>...</td>\n    </tr>\n    <tr>\n      <th>1887</th>\n      <td>1201</td>\n      <td>chr11</td>\n      <td>13913576</td>\n      <td>13913776</td>\n      <td>1.510588</td>\n      <td>taaggtctataagagagagcacctgcctagttttgcaaagtcacac...</td>\n    </tr>\n    <tr>\n      <th>1888</th>\n      <td>249</td>\n      <td>chr1</td>\n      <td>57998096</td>\n      <td>57998296</td>\n      <td>1.525627</td>\n      <td>ctggcatttttcacactatactctaatttggtttatctttcccatt...</td>\n    </tr>\n    <tr>\n      <th>1889</th>\n      <td>3151</td>\n      <td>chr18</td>\n      <td>48755796</td>\n      <td>48755996</td>\n      <td>1.532728</td>\n      <td>attccacttccatttgatgatgaaatactgctgtgtaggcccaact...</td>\n    </tr>\n    <tr>\n      <th>1890</th>\n      <td>7124</td>\n      <td>chr8</td>\n      <td>101981456</td>\n      <td>101981656</td>\n      <td>1.900275</td>\n      <td>taaagtctgtgatctttctgataagtgcatagaagaaaacgctgac...</td>\n    </tr>\n    <tr>\n      <th>1891</th>\n      <td>921</td>\n      <td>chr10</td>\n      <td>32837196</td>\n      <td>32837396</td>\n      <td>2.057311</td>\n      <td>gctattttaaagagagcaggagtatgaactggaggggcagagtcag...</td>\n    </tr>\n  </tbody>\n</table>\n<p>1892 rows × 6 columns</p>\n</div>"
     },
     "metadata": {},
     "execution_count": 4
    }
   ],
   "source": [
    "import pandas as pd\n",
    "\n",
    "s2_df = pd.read_csv('//Users/slevine-gottreich/github/DeepSilencer/data/s2.csv')\n",
    "# /Users/slevine-gottreich/github/DNABERT/data/jayavulu/regression/dev.tsv')\n",
    "\n",
    "s2_df"
   ]
  },
  {
   "cell_type": "code",
   "execution_count": 18,
   "metadata": {},
   "outputs": [],
   "source": [
    "from tqdm import tqdm_notebook, tqdm\n",
    "import numpy as np\n",
    "acgt2num = {'A': 0,'C': 1,'G': 2,'T': 3}\n",
    "\n",
    "def seq2mat(seq):\n",
    "    seq = seq.upper()\n",
    "    h = 4\n",
    "    w = len(seq)\n",
    "    mat = np.zeros((h, w), dtype=bool)  # True or false in mat\n",
    "    for i in range(w):\n",
    "        mat[acgt2num[seq[i]], i] = 1.\n",
    "    return mat.reshape((1, -1))\n"
   ]
  },
  {
   "cell_type": "code",
   "execution_count": 19,
   "metadata": {},
   "outputs": [
    {
     "output_type": "stream",
     "name": "stderr",
     "text": [
      "100%|██████████| 1892/1892 [00:00<00:00, 17195.47it/s]\n"
     ]
    },
    {
     "output_type": "execute_result",
     "data": {
      "text/plain": [
       "      Unnamed: 0    chr      start        end    log2FC  \\\n",
       "0            921  chr10   32837196   32837396  2.057311   \n",
       "1           7124   chr8  101981456  101981656  1.900275   \n",
       "2           3151  chr18   48755796   48755996  1.532728   \n",
       "3            249   chr1   57998096   57998296  1.525627   \n",
       "4           1201  chr11   13913576   13913776  1.510588   \n",
       "...          ...    ...        ...        ...       ...   \n",
       "1887        1201  chr11   13913576   13913776  1.510588   \n",
       "1888         249   chr1   57998096   57998296  1.525627   \n",
       "1889        3151  chr18   48755796   48755996  1.532728   \n",
       "1890        7124   chr8  101981456  101981656  1.900275   \n",
       "1891         921  chr10   32837196   32837396  2.057311   \n",
       "\n",
       "                                                    seq  \\\n",
       "0     gctattttaaagagagcaggagtatgaactggaggggcagagtcag...   \n",
       "1     taaagtctgtgatctttctgataagtgcatagaagaaaacgctgac...   \n",
       "2     attccacttccatttgatgatgaaatactgctgtgtaggcccaact...   \n",
       "3     ctggcatttttcacactatactctaatttggtttatctttcccatt...   \n",
       "4     taaggtctataagagagagcacctgcctagttttgcaaagtcacac...   \n",
       "...                                                 ...   \n",
       "1887  taaggtctataagagagagcacctgcctagttttgcaaagtcacac...   \n",
       "1888  ctggcatttttcacactatactctaatttggtttatctttcccatt...   \n",
       "1889  attccacttccatttgatgatgaaatactgctgtgtaggcccaact...   \n",
       "1890  taaagtctgtgatctttctgataagtgcatagaagaaaacgctgac...   \n",
       "1891  gctattttaaagagagcaggagtatgaactggaggggcagagtcag...   \n",
       "\n",
       "                                                    mat  \n",
       "0     [[False, False, False, True, False, False, Fal...  \n",
       "1     [[False, True, True, True, False, False, False...  \n",
       "2     [[True, False, False, False, False, True, Fals...  \n",
       "3     [[False, False, False, False, False, True, Fal...  \n",
       "4     [[False, True, True, False, False, False, Fals...  \n",
       "...                                                 ...  \n",
       "1887  [[False, True, True, False, False, False, Fals...  \n",
       "1888  [[False, False, False, False, False, True, Fal...  \n",
       "1889  [[True, False, False, False, False, True, Fals...  \n",
       "1890  [[False, True, True, True, False, False, False...  \n",
       "1891  [[False, False, False, True, False, False, Fal...  \n",
       "\n",
       "[1892 rows x 7 columns]"
      ],
      "text/html": "<div>\n<style scoped>\n    .dataframe tbody tr th:only-of-type {\n        vertical-align: middle;\n    }\n\n    .dataframe tbody tr th {\n        vertical-align: top;\n    }\n\n    .dataframe thead th {\n        text-align: right;\n    }\n</style>\n<table border=\"1\" class=\"dataframe\">\n  <thead>\n    <tr style=\"text-align: right;\">\n      <th></th>\n      <th>Unnamed: 0</th>\n      <th>chr</th>\n      <th>start</th>\n      <th>end</th>\n      <th>log2FC</th>\n      <th>seq</th>\n      <th>mat</th>\n    </tr>\n  </thead>\n  <tbody>\n    <tr>\n      <th>0</th>\n      <td>921</td>\n      <td>chr10</td>\n      <td>32837196</td>\n      <td>32837396</td>\n      <td>2.057311</td>\n      <td>gctattttaaagagagcaggagtatgaactggaggggcagagtcag...</td>\n      <td>[[False, False, False, True, False, False, Fal...</td>\n    </tr>\n    <tr>\n      <th>1</th>\n      <td>7124</td>\n      <td>chr8</td>\n      <td>101981456</td>\n      <td>101981656</td>\n      <td>1.900275</td>\n      <td>taaagtctgtgatctttctgataagtgcatagaagaaaacgctgac...</td>\n      <td>[[False, True, True, True, False, False, False...</td>\n    </tr>\n    <tr>\n      <th>2</th>\n      <td>3151</td>\n      <td>chr18</td>\n      <td>48755796</td>\n      <td>48755996</td>\n      <td>1.532728</td>\n      <td>attccacttccatttgatgatgaaatactgctgtgtaggcccaact...</td>\n      <td>[[True, False, False, False, False, True, Fals...</td>\n    </tr>\n    <tr>\n      <th>3</th>\n      <td>249</td>\n      <td>chr1</td>\n      <td>57998096</td>\n      <td>57998296</td>\n      <td>1.525627</td>\n      <td>ctggcatttttcacactatactctaatttggtttatctttcccatt...</td>\n      <td>[[False, False, False, False, False, True, Fal...</td>\n    </tr>\n    <tr>\n      <th>4</th>\n      <td>1201</td>\n      <td>chr11</td>\n      <td>13913576</td>\n      <td>13913776</td>\n      <td>1.510588</td>\n      <td>taaggtctataagagagagcacctgcctagttttgcaaagtcacac...</td>\n      <td>[[False, True, True, False, False, False, Fals...</td>\n    </tr>\n    <tr>\n      <th>...</th>\n      <td>...</td>\n      <td>...</td>\n      <td>...</td>\n      <td>...</td>\n      <td>...</td>\n      <td>...</td>\n      <td>...</td>\n    </tr>\n    <tr>\n      <th>1887</th>\n      <td>1201</td>\n      <td>chr11</td>\n      <td>13913576</td>\n      <td>13913776</td>\n      <td>1.510588</td>\n      <td>taaggtctataagagagagcacctgcctagttttgcaaagtcacac...</td>\n      <td>[[False, True, True, False, False, False, Fals...</td>\n    </tr>\n    <tr>\n      <th>1888</th>\n      <td>249</td>\n      <td>chr1</td>\n      <td>57998096</td>\n      <td>57998296</td>\n      <td>1.525627</td>\n      <td>ctggcatttttcacactatactctaatttggtttatctttcccatt...</td>\n      <td>[[False, False, False, False, False, True, Fal...</td>\n    </tr>\n    <tr>\n      <th>1889</th>\n      <td>3151</td>\n      <td>chr18</td>\n      <td>48755796</td>\n      <td>48755996</td>\n      <td>1.532728</td>\n      <td>attccacttccatttgatgatgaaatactgctgtgtaggcccaact...</td>\n      <td>[[True, False, False, False, False, True, Fals...</td>\n    </tr>\n    <tr>\n      <th>1890</th>\n      <td>7124</td>\n      <td>chr8</td>\n      <td>101981456</td>\n      <td>101981656</td>\n      <td>1.900275</td>\n      <td>taaagtctgtgatctttctgataagtgcatagaagaaaacgctgac...</td>\n      <td>[[False, True, True, True, False, False, False...</td>\n    </tr>\n    <tr>\n      <th>1891</th>\n      <td>921</td>\n      <td>chr10</td>\n      <td>32837196</td>\n      <td>32837396</td>\n      <td>2.057311</td>\n      <td>gctattttaaagagagcaggagtatgaactggaggggcagagtcag...</td>\n      <td>[[False, False, False, True, False, False, Fal...</td>\n    </tr>\n  </tbody>\n</table>\n<p>1892 rows × 7 columns</p>\n</div>"
     },
     "metadata": {},
     "execution_count": 19
    }
   ],
   "source": [
    "tqdm.pandas()\n",
    "s2_df['mat'] = s2_df.progress_apply(lambda x: seq2mat(x['seq']),axis=1)\n",
    "s2_df"
   ]
  },
  {
   "cell_type": "code",
   "execution_count": 35,
   "metadata": {},
   "outputs": [
    {
     "output_type": "execute_result",
     "data": {
      "text/plain": [
       "(1892, 800)"
      ]
     },
     "metadata": {},
     "execution_count": 35
    }
   ],
   "source": [
    "np.vstack(s2_df.mat).shape"
   ]
  },
  {
   "cell_type": "code",
   "execution_count": 41,
   "metadata": {},
   "outputs": [],
   "source": [
    "new_data = np.vstack(s2_df.mat)\n",
    "from sklearn.model_selection import train_test_split\n",
    "\n",
    "train,test = train_test_split(\n",
    "    new_data, test_size=0.33, random_state=42)\n"
   ]
  },
  {
   "cell_type": "code",
   "execution_count": 45,
   "metadata": {},
   "outputs": [],
   "source": [
    "import hickle as hkl\n",
    "hkl.dump(train, 'data/train.hkl', mode='w')\n",
    "hkl.dump(train, 'data/test.hkl', mode='w')\n"
   ]
  },
  {
   "cell_type": "code",
   "execution_count": null,
   "metadata": {},
   "outputs": [],
   "source": []
  }
 ]
}